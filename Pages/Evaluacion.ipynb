{
 "cells": [
  {
   "cell_type": "code",
   "execution_count": 1,
   "id": "c86cc509",
   "metadata": {},
   "outputs": [
    {
     "name": "stdout",
     "output_type": "stream",
     "text": [
      "Chatbot iniciado 🤖 (escribe 'salir' para terminar)\n",
      "\n",
      "Bot: ¡Hola! ¿Cómo puedo ayudarte hoy en EcoMarket? \n",
      "\n",
      "Chatbot finalizado 👋\n"
     ]
    }
   ],
   "source": [
    "from dotenv import load_dotenv\n",
    "import os\n",
    "from openai import OpenAI\n",
    "\n",
    "# Cargar .env\n",
    "load_dotenv()\n",
    "\n",
    "# Inicializar cliente con GitHub Models\n",
    "client = OpenAI(\n",
    "    base_url=os.getenv(\"OPENAI_BASE_URL\"),\n",
    "    api_key=os.getenv(\"GITHUB_TOKEN\")\n",
    ")\n",
    "\n",
    "def chat():\n",
    "    mensajes = [\n",
    "        {\"role\": \"system\", \"content\": \"Eres el asistente virtual de EcoMarket.\"}\n",
    "    ]\n",
    "\n",
    "    print(\"Chatbot iniciado 🤖 (escribe 'salir' para terminar)\\n\")\n",
    "\n",
    "    while True:\n",
    "        user_input = input(\"Tú: \")\n",
    "        if user_input.lower() == \"salir\":\n",
    "            print(\"Chatbot finalizado 👋\")\n",
    "            break\n",
    "\n",
    "        mensajes.append({\"role\": \"user\", \"content\": user_input})\n",
    "\n",
    "        try:\n",
    "            response = client.chat.completions.create(\n",
    "                model=\"gpt-4o-mini\",   # 👈 en GitHub Models suele ser gpt-4o-mini\n",
    "                messages=mensajes,\n",
    "                temperature=0.3,\n",
    "                max_tokens=200\n",
    "            )\n",
    "            reply = response.choices[0].message.content\n",
    "            print(\"Bot:\", reply, \"\\n\")\n",
    "\n",
    "            mensajes.append({\"role\": \"assistant\", \"content\": reply})\n",
    "        except Exception as e:\n",
    "            print(\"Error:\", e)\n",
    "\n",
    "if __name__ == \"__main__\":\n",
    "    chat()\n"
   ]
  }
 ],
 "metadata": {
  "kernelspec": {
   "display_name": ".venv (3.13.7)",
   "language": "python",
   "name": "python3"
  },
  "language_info": {
   "codemirror_mode": {
    "name": "ipython",
    "version": 3
   },
   "file_extension": ".py",
   "mimetype": "text/x-python",
   "name": "python",
   "nbconvert_exporter": "python",
   "pygments_lexer": "ipython3",
   "version": "3.13.7"
  }
 },
 "nbformat": 4,
 "nbformat_minor": 5
}
